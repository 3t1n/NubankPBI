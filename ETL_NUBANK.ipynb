{
 "cells": [
  {
   "cell_type": "code",
   "execution_count": null,
   "metadata": {},
   "outputs": [],
   "source": [
    "#Instalar as Dependências\n",
    "pip install mysql-connector\n",
    "pip install pynubank"
   ]
  },
  {
   "cell_type": "code",
   "execution_count": null,
   "metadata": {},
   "outputs": [],
   "source": [
    "from pynubank import Nubank\n",
    "import mysql.connector\n",
    "import datetime"
   ]
  },
  {
   "cell_type": "code",
   "execution_count": null,
   "metadata": {},
   "outputs": [],
   "source": [
    "nu = Nubank()\n",
    "uuid, qr_code = nu.get_qr_code()\n",
    "qr_code.print_ascii(invert=True)\n",
    "input('Após escanear o QRCode pressione enter para continuar')\n",
    "# Nesse momento será printado o QRCode no console\n",
    "# Você precisa escanear pelo o seu app do celular\n",
    "# Esse menu fica em NU > Perfil > Acesso pelo site"
   ]
  },
  {
   "cell_type": "code",
   "execution_count": null,
   "metadata": {},
   "outputs": [],
   "source": [
    "# Somente após escanear o QRCode você pode chamar a linha abaixo\n",
    "# Insira seu CPF e sua senha da sua conta do Nubank\n",
    "nu.authenticate_with_qr_code('CPF', 'SENHA', uuid)\n",
    "print(nu.get_account_balance())"
   ]
  },
  {
   "cell_type": "code",
   "execution_count": null,
   "metadata": {},
   "outputs": [],
   "source": [
    "card_statements = nu.get_card_statements()"
   ]
  },
  {
   "cell_type": "code",
   "execution_count": null,
   "metadata": {},
   "outputs": [],
   "source": [
    "mydb = mysql.connector.connect(\n",
    "  host=\"HOST\",\n",
    "  user=\"USER\",\n",
    "  password=\"SENHA\"\n",
    ")\n",
    "cursor = mydb.cursor()\n",
    "cursor = mydb.cursor(buffered=True)"
   ]
  },
  {
   "cell_type": "code",
   "execution_count": null,
   "metadata": {},
   "outputs": [],
   "source": [
    "#Cria a estrutura do banco\n",
    "cursor.execute(\"CREATE DATABASE IF NOT EXISTS nubank;\")\n",
    "cursor.execute(\"USE nubank;\")\n",
    "cursor.execute( \"\"\"CREATE TABLE IF NOT EXISTS `fatura_cartao` (\n",
    "  `fatura_id` varchar(100) NOT NULL,\n",
    "  `descricao` varchar(255) DEFAULT NULL,\n",
    "  `categoria` varchar(100) DEFAULT NULL,\n",
    "  `valor` decimal(13,2) DEFAULT NULL,\n",
    "  `datetime` varchar(100),\n",
    "  `origem` varchar(100) DEFAULT NULL,\n",
    "  `titulo` varchar(100) DEFAULT NULL,\n",
    "  `conta` varchar(100) DEFAULT NULL,\n",
    "  `lat` varchar(30) DEFAULT NULL,\n",
    "  `lon` varchar(30) DEFAULT NULL,\n",
    "  `updated_at` timestamp NOT NULL DEFAULT current_timestamp() ON UPDATE current_timestamp(),\n",
    "  `created_at` timestamp NOT NULL DEFAULT current_timestamp(),\n",
    "  PRIMARY KEY (`fatura_id`)\n",
    ");\"\"\")\n",
    "cursor.execute( \"\"\"CREATE TABLE IF NOT EXISTS `conta_corrente` (\n",
    "  `id` varchar(255) NOT NULL,\n",
    "  `operacao` varchar(50) DEFAULT NULL,\n",
    "  `titulo` varchar(50) DEFAULT NULL,\n",
    "  `detalhe` varchar(255) DEFAULT NULL,\n",
    "  `data` varchar(100),\n",
    "  `Valor` float DEFAULT NULL,\n",
    "  `created_at` timestamp NOT NULL DEFAULT current_timestamp(),\n",
    "  `updated_at` datetime DEFAULT current_timestamp() ON UPDATE current_timestamp(),\n",
    "  PRIMARY KEY (`id`)\n",
    ");\"\"\")\n"
   ]
  },
  {
   "cell_type": "code",
   "execution_count": null,
   "metadata": {},
   "outputs": [],
   "source": [
    "#Faz a carga das transações do Cartão de Crédito\n",
    "for idx,compra in enumerate(card_statements):\n",
    "    cursor.execute(\"SELECT * FROM fatura_cartao WHERE fatura_id = %s\",(compra['id'], ))\n",
    "    if(cursor.rowcount == 0):\n",
    "        print('Linha',idx,' Inserida')\n",
    "        details = compra.get(\"details\",None)\n",
    "        if(details != None):\n",
    "            long = details.get(\"lon\", None)\n",
    "            lat = details.get(\"lat\", None)\n",
    "        cursor.execute(\"INSERT INTO fatura_cartao VALUES (%s,%s,%s,%s,%s,%s,%s,%s,%s,%s,%s,%s);\",(compra['id'],compra['description'],compra['category'],compra['amount']/100,compra['time'],compra.get(\"source\",None),compra['title'],compra.get(\"account\",None),lat,long, datetime.datetime.now(), datetime.datetime.now()))\n",
    "        "
   ]
  },
  {
   "cell_type": "code",
   "execution_count": null,
   "metadata": {},
   "outputs": [],
   "source": [
    "# Lista de dicionários contendo todas as transações da conta\n",
    "account_statements = nu.get_account_statements()"
   ]
  },
  {
   "cell_type": "code",
   "execution_count": null,
   "metadata": {},
   "outputs": [],
   "source": [
    "#Faz a carga das transações da Conta Corrente\n",
    "for idx,t in enumerate(account_statements):\n",
    "    if t['__typename'] == \"TransferInEvent\" :\n",
    "        tipo_operacao = \"Entrada\"\n",
    "        valor = t['amount']\n",
    "    elif t['__typename'] == \"TransferOutEvent\" :\n",
    "        tipo_operacao = \"Saída\"\n",
    "        if( t['amount']  != None):\n",    
    "          valor = t['amount'] * -1\n",
    "    elif t['__typename'] == \"TransferOutReversalEvent\" :   \n",
    "        tipo_operacao = \"Devolução\"\n",
    "        valor = t['amount']\n",
    "    elif t['__typename'] == \"DebitPurchaseEvent\" :\n",
    "        tipo_operacao = \"Compra no Débito\"\n",
    "        if( t['amount']  != None):\n",    
    "          valor = t['amount'] * -1\n",
    "    elif t['__typename'] == \"BarcodePaymentEvent\" :\n",
    "        tipo_operacao = \"Compra no Boleto\"\n",
    "        if( t['amount']  != None):\n",    
    "          valor = t['amount'] * -1       \n",
    "    elif t['__typename'] == \"DebitWithdrawalFeeEvent\" :\n",
    "        tipo_operacao = \"Tarifa de Saque\"\n",
    "        if( t['amount']  != None):\n",
    "          valor = t['amount'] * -1\n",
    "    elif t['__typename'] == \"DebitWithdrawalEvent\" :\n",
    "        tipo_operacao = \"Saque\"\n",
    "        if( t['amount']  != None):\n",    
    "          valor = t['amount'] * -1\n",
    "    elif t['__typename'] == \"BillPaymentEvent\" :\n",
    "        tipo_operacao = \"Pagamento da Fatura do Cartão de Crédito\"\n",
    "        valor = float(t['detail'][19:].replace(\".\", \"\").replace(\",\", \".\")) * -1\n",
    "    else:\n",
    "        valor = t['amount']   \n",
    "    cursor.execute(\"SELECT * FROM conta_corrente WHERE id = %s\",(t['id'], )) \n",
    "    if(cursor.rowcount == 0):\n",
    "        print('Linha',idx,' Inserida')\n",
    "        cursor.execute(\"INSERT INTO conta_corrente VALUES (%s,%s,%s,%s,%s,%s,%s,%s);\",(t['id'],tipo_operacao,t['title'],t['detail'],t['postDate'],valor,datetime.datetime.now(), datetime.datetime.now()))"
   ]
  },
  {
   "cell_type": "code",
   "execution_count": null,
   "metadata": {},
   "outputs": [],
   "source": [
    "#Faz o commit de todas transações no Banco de Dados\n",
    "mydb.commit()"
   ]
  }
 ],
 "metadata": {
  "kernelspec": {
   "display_name": "Python 3",
   "language": "python",
   "name": "python3"
  },
  "language_info": {
   "codemirror_mode": {
    "name": "ipython",
    "version": 3
   },
   "file_extension": ".py",
   "mimetype": "text/x-python",
   "name": "python",
   "nbconvert_exporter": "python",
   "pygments_lexer": "ipython3",
   "version": "3.7.4"
  }
 },
 "nbformat": 4,
 "nbformat_minor": 2
}
